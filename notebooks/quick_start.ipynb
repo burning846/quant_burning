{
 "cells": [
  {
   "cell_type": "markdown",
   "metadata": {},
   "source": [
    "# 基于qlib的量化交易系统快速入门",
    "",
    "本笔记本展示了如何使用基于qlib的量化交易系统进行数据分析和策略回测。"
   ]
  },
  {
   "cell_type": "markdown",
   "metadata": {},
   "source": [
    "## 1. 环境准备",
    "",
    "首先导入必要的库并设置路径。"
   ]
  },
  {
   "cell_type": "code",
   "execution_count": null,
   "metadata": {},
   "outputs": [],
   "source": [
    "import os\n",
    "import sys\n",
    "import pandas as pd\n",
    "import numpy as np\n",
    "import matplotlib.pyplot as plt\n",
    "import seaborn as sns\n",
    "from datetime import datetime\n",
    "\n",
    "# 添加项目根目录到系统路径\n",
    "sys.path.append(os.path.abspath(os.path.join(os.getcwd(), '..')))\n",
    "\n",
    "# 设置绘图样式\n",
    "plt.style.use('seaborn-v0_8-darkgrid')\n",
    "sns.set_palette('Set2')\n",
    "\n",
    "# 显示设置\n",
    "%matplotlib inline\n",
    "pd.set_option('display.max_columns', None)\n",
    "pd.set_option('display.width', 200)"
   ]
  },
  {
   "cell_type": "markdown",
   "metadata": {},
   "source": [
    "## 2. 导入项目模块",
    "",
    "导入我们构建的量化系统模块。"
   ]
  },
  {
   "cell_type": "code",
   "execution_count": null,
   "metadata": {},
   "outputs": [],
   "source": [
    "# 导入项目模块\n",
    "from data.fetcher import DataFetcher\n",
    "from data.processor import DataProcessor\n",
    "from strategies.simple_strategies import MomentumStrategy, MeanReversionStrategy, MovingAverageCrossStrategy, RSIStrategy\n",
    "from backtest.backtest_engine import BacktestEngine\n",
    "from backtest.analyzer import BacktestAnalyzer\n",
    "from results.visualizer import Visualizer"
   ]
  },
  {
   "cell_type": "markdown",
   "metadata": {},
   "source": [
    "## 3. 获取股票数据",
    "",
    "使用DataFetcher获取股票数据。"
   ]
  },
  {
   "cell_type": "code",
   "execution_count": null,
   "metadata": {},
   "outputs": [],
   "source": [
    "# 创建数据目录\n",
    "os.makedirs('../data/raw', exist_ok=True)\n",
    "os.makedirs('../data/processed', exist_ok=True)\n",
    "\n",
    "# 设置股票和时间范围\n",
    "symbols = ['000001.SZ', '600000.SH', '600519.SH', '000858.SZ', '601318.SH']\n",
    "start_date = '2018-01-01'\n",
    "end_date = '2021-12-31'\n",
    "\n",
    "# 尝试加载本地数据，如果不存在则从网络获取\n",
    "data_path = '../data/raw/stock_data.csv'\n",
    "\n",
    "try:\n",
    "    # 尝试使用本地数据\n",
    "    data = pd.read_csv(data_path)\n",
    "    print(f\"已加载本地数据，共 {len(data)} 条记录\")\n",
    "except FileNotFoundError:\n",
    "    # 如果本地数据不存在，则从网络获取\n",
    "    print(\"本地数据不存在，从网络获取数据...\")\n",
    "    fetcher = DataFetcher()\n",
    "    data = fetcher.batch_fetch_stock_data(symbols, start_date, end_date, source='yahoo')\n",
    "    data.to_csv(data_path, index=False)\n",
    "    print(f\"数据获取完成，共 {len(data)} 条记录\")"
   ]
  },
  {
   "cell_type": "markdown",
   "metadata": {},
   "source": [
    "查看数据的前几行，了解数据结构。"
   ]
  },
  {
   "cell_type": "code",
   "execution_count": null,
   "metadata": {},
   "outputs": [],
   "source": [
    "# 查看数据结构\n",
    "data.head()"
   ]
  },
  {
   "cell_type": "markdown",
   "metadata": {},
   "source": [
    "检查数据的基本统计信息。"
   ]
  },
  {
   "cell_type": "code",
   "execution_count": null,
   "metadata": {},
   "outputs": [],
   "source": [
    "# 查看数据统计信息\n",
    "data.describe()"
   ]
  },
  {
   "cell_type": "markdown",
   "metadata": {},
   "source": [
    "## 4. 数据处理",
    "",
    "使用DataProcessor处理股票数据，计算技术指标。"
   ]
  },
  {
   "cell_type": "code",
   "execution_count": null,
   "metadata": {},
   "outputs": [],
   "source": [
    "# 处理数据\n",
    "processor = DataProcessor()\n",
    "processed_data = processor.process_stock_data(data)\n",
    "\n",
    "# 保存处理后的数据\n",
    "processed_data.to_csv('../data/processed/processed_data.csv', index=False)\n",
    "print(f\"数据处理完成，共 {len(processed_data)} 条记录\")"
   ]
  },
  {
   "cell_type": "markdown",
   "metadata": {},
   "source": [
    "查看处理后的数据，包含了计算的技术指标。"
   ]
  },
  {
   "cell_type": "code",
   "execution_count": null,
   "metadata": {},
   "outputs": [],
   "source": [
    "# 查看处理后的数据\n",
    "processed_data.head()"
   ]
  },
  {
   "cell_type": "markdown",
   "metadata": {},
   "source": [
    "## 5. 数据可视化",
    "",
    "绘制股票价格走势图。"
   ]
  },
  {
   "cell_type": "code",
   "execution_count": null,
   "metadata": {},
   "outputs": [],
   "source": [
    "# 选择一只股票进行可视化\n",
    "stock_id = '000001.SZ'\n",
    "stock_data = processed_data[processed_data['stock_id'] == stock_id].copy()\n",
    "\n",
    "# 将日期列转换为日期类型\n",
    "stock_data['date'] = pd.to_datetime(stock_data['date'])\n",
    "\n",
    "# 绘制价格走势图\n",
    "plt.figure(figsize=(12, 6))\n",
    "plt.plot(stock_data['date'], stock_data['close'], label='收盘价')\n",
    "plt.title(f'{stock_id} 价格走势')\n",
    "plt.xlabel('日期')\n",
    "plt.ylabel('价格')\n",
    "plt.grid(True)\n",
    "plt.legend()\n",
    "plt.show()"
   ]
  },
  {
   "cell_type": "markdown",
   "metadata": {},
   "source": [
    "绘制技术指标。"
   ]
  },
  {
   "cell_type": "code",
   "execution_count": null,
   "metadata": {},
   "outputs": [],
   "source": [
    "# 绘制移动平均线\n",
    "plt.figure(figsize=(12, 6))\n",
    "plt.plot(stock_data['date'], stock_data['close'], label='收盘价')\n",
    "plt.plot(stock_data['date'], stock_data['ma5'], label='5日均线')\n",
    "plt.plot(stock_data['date'], stock_data['ma20'], label='20日均线')\n",
    "plt.title(f'{stock_id} 移动平均线')\n",
    "plt.xlabel('日期')\n",
    "plt.ylabel('价格')\n",
    "plt.grid(True)\n",
    "plt.legend()\n",
    "plt.show()"
   ]
  },
  {
   "cell_type": "code",
   "execution_count": null,
   "metadata": {},
   "outputs": [],
   "source": [
    "# 绘制RSI指标\n",
    "plt.figure(figsize=(12, 6))\n",
    "plt.plot(stock_data['date'], stock_data['rsi_14'], label='RSI(14)')\n",
    "plt.axhline(y=70, color='r', linestyle='--', label='超买线(70)')\n",
    "plt.axhline(y=30, color='g', linestyle='--', label='超卖线(30)')\n",
    "plt.title(f'{stock_id} RSI指标')\n",
    "plt.xlabel('日期')\n",
    "plt.ylabel('RSI值')\n",
    "plt.grid(True)\n",
    "plt.legend()\n",
    "plt.show()"
   ]
  },
  {
   "cell_type": "markdown",
   "metadata": {},
   "source": [
    "## 6. 策略回测",
    "",
    "创建回测引擎和策略，运行回测。"
   ]
  },
  {
   "cell_type": "code",
   "execution_count": null,
   "metadata": {},
   "outputs": [],
   "source": [
    "# 创建回测引擎\n",
    "backtest_config = {\n",
    "    'start_date': '2019-01-01',  # 回测开始日期\n",
    "    'end_date': '2021-12-31',  # 回测结束日期\n",
    "    'benchmark': '000001.SZ',  # 基准指数\n",
    "    'account': 1000000,  # 初始资金\n",
    "    'commission_rate': 0.0003,  # 手续费率\n",
    "    'slippage_rate': 0.0001,  # 滑点率\n",
    "    'trade_frequency': 'day',  # 交易频率\n",
    "    'verbose': True  # 是否打印详细信息\n",
    "}\n",
    "backtest_engine = BacktestEngine(backtest_config)"
   ]
  },
  {
   "cell_type": "code",
   "execution_count": null,
   "metadata": {},
   "outputs": [],
   "source": [
    "# 创建策略\n",
    "# 1. 移动平均线交叉策略\n",
    "ma_cross_strategy = MovingAverageCrossStrategy(short_window=5, long_window=20)\n",
    "\n",
    "# 2. RSI策略\n",
    "rsi_strategy = RSIStrategy(rsi_period=14, overbought=70, oversold=30)\n",
    "\n",
    "# 3. 动量策略\n",
    "momentum_strategy = MomentumStrategy(lookback_period=20, holding_period=5)\n",
    "\n",
    "# 4. 均值回归策略\n",
    "mean_reversion_strategy = MeanReversionStrategy(lookback_period=10, threshold=1.5)"
   ]
  },
  {
   "cell_type": "code",
   "execution_count": null,
   "metadata": {},
   "outputs": [],
   "source": [
    "# 选择一个策略进行回测\n",
    "strategy = ma_cross_strategy  # 可以替换为其他策略\n",
    "\n",
    "# 运行回测\n",
    "results = backtest_engine.run_backtest(strategy, processed_data)\n",
    "\n",
    "# 保存回测结果\n",
    "os.makedirs('../results', exist_ok=True)\n",
    "backtest_engine.save_results('../results/backtest_results.json')"
   ]
  },
  {
   "cell_type": "markdown",
   "metadata": {},
   "source": [
    "## 7. 回测结果分析",
    "",
    "使用BacktestAnalyzer分析回测结果。"
   ]
  },
  {
   "cell_type": "code",
   "execution_count": null,
   "metadata": {},
   "outputs": [],
   "source": [
    "# 创建分析器\n",
    "analyzer = BacktestAnalyzer(results)\n",
    "\n",
    "# 获取回测摘要\n",
    "summary = analyzer.get_summary()\n",
    "print(\"回测摘要:\")\n",
    "print(summary)"
   ]
  },
  {
   "cell_type": "code",
   "execution_count": null,
   "metadata": {},
   "outputs": [],
   "source": [
    "# 绘制权益曲线\n",
    "analyzer.plot_equity_curve()"
   ]
  },
  {
   "cell_type": "code",
   "execution_count": null,
   "metadata": {},
   "outputs": [],
   "source": [
    "# 绘制回撤曲线\n",
    "analyzer.plot_drawdown()"
   ]
  },
  {
   "cell_type": "code",
   "execution_count": null,
   "metadata": {},
   "outputs": [],
   "source": [
    "# 绘制月度收益热力图\n",
    "analyzer.plot_monthly_returns()"
   ]
  },
  {
   "cell_type": "markdown",
   "metadata": {},
   "source": [
    "## 8. 比较不同策略",
    "",
    "运行多个策略并比较它们的性能。"
   ]
  },
  {
   "cell_type": "code",
   "execution_count": null,
   "metadata": {},
   "outputs": [],
   "source": [
    "# 创建策略列表\n",
    "strategies = [\n",
    "    MovingAverageCrossStrategy(short_window=5, long_window=20),\n",
    "    RSIStrategy(rsi_period=14, overbought=70, oversold=30),\n",
    "    MomentumStrategy(lookback_period=20, holding_period=5),\n",
    "    MeanReversionStrategy(lookback_period=10, threshold=1.5)\n",
    "]\n",
    "\n",
    "# 存储结果\n",
    "strategy_results = {}\n",
    "strategy_metrics = {}\n",
    "\n",
    "# 运行每个策略的回测\n",
    "for strategy in strategies:\n",
    "    strategy_name = strategy.__class__.__name__\n",
    "    print(f\"运行 {strategy_name} 回测...\")\n",
    "    \n",
    "    backtest_engine = BacktestEngine(backtest_config)\n",
    "    results = backtest_engine.run_backtest(strategy, processed_data)\n",
    "    \n",
    "    # 保存结果\n",
    "    strategy_results[strategy_name] = results\n",
    "    \n",
    "    # 获取关键指标\n",
    "    metrics = {\n",
    "        'annual_return': results['annual_return'],\n",
    "        'sharpe_ratio': results['sharpe_ratio'],\n",
    "        'max_drawdown': results['max_drawdown'],\n",
    "        'win_rate': results['win_rate']\n",
    "    }\n",
    "    strategy_metrics[strategy_name] = metrics"
   ]
  },
  {
   "cell_type": "code",
   "execution_count": null,
   "metadata": {},
   "outputs": [],
   "source": [
    "# 比较策略性能\n",
    "metrics_df = pd.DataFrame(strategy_metrics).T\n",
    "print(\"策略性能比较:\")\n",
    "print(metrics_df)"
   ]
  },
  {
   "cell_type": "code",
   "execution_count": null,
   "metadata": {},
   "outputs": [],
   "source": [
    "# 使用Visualizer绘制策略对比图\n",
    "visualizer = Visualizer()\n",
    "\n",
    "# 绘制权益曲线对比\n",
    "plt.figure(figsize=(12, 6))\n",
    "\n",
    "# 添加基准曲线\n",
    "benchmark_values = strategy_results[strategies[0].__class__.__name__]['benchmark_value']\n",
    "dates = strategy_results[strategies[0].__class__.__name__]['dates']\n",
    "plt.plot(dates, benchmark_values, label='基准', linestyle='--')\n",
    "\n",
    "# 添加每个策略的权益曲线\n",
    "for strategy in strategies:\n",
    "    strategy_name = strategy.__class__.__name__\n",
    "    portfolio_values = strategy_results[strategy_name]['portfolio_value']\n",
    "    plt.plot(dates, portfolio_values, label=strategy_name)\n",
    "\n",
    "plt.title('策略权益曲线对比')\n",
    "plt.xlabel('日期')\n",
    "plt.ylabel('价值')\n",
    "plt.legend()\n",
    "plt.grid(True)\n",
    "plt.show()"
   ]
  },
  {
   "cell_type": "code",
   "execution_count": null,
   "metadata": {},
   "outputs": [],
   "source": [
    "# 绘制指标对比条形图\n",
    "visualizer.plot_metrics_comparison(strategy_metrics, metrics=['annual_return', 'sharpe_ratio', 'max_drawdown', 'win_rate'])"
   ]
  },
  {
   "cell_type": "markdown",
   "metadata": {},
   "source": [
    "## 9. 生成回测报告",
    "",
    "生成完整的回测报告。"
   ]
  },
  {
   "cell_type": "code",
   "execution_count": null,
   "metadata": {},
   "outputs": [],
   "source": [
    "# 选择一个策略的结果生成报告\n",
    "best_strategy_name = metrics_df['sharpe_ratio'].idxmax()\n",
    "print(f\"生成 {best_strategy_name} 的回测报告\")\n",
    "\n",
    "analyzer = BacktestAnalyzer(strategy_results[best_strategy_name])\n",
    "analyzer.generate_report(output_dir=f'../results/{best_strategy_name}')"
   ]
  },
  {
   "cell_type": "markdown",
   "metadata": {},
   "source": [
    "## 10. 总结",
    "",
    "在本笔记本中，我们展示了如何使用基于qlib的量化交易系统进行数据获取、处理、策略回测和结果分析。通过比较不同策略的性能，我们可以选择最适合的策略进行实际交易。",
    "",
    "请注意，回测结果仅供参考，实际交易中还需考虑更多因素，如流动性、市场冲击等。"
   ]
  }
 ],
 "metadata": {
  "kernelspec": {
   "display_name": "Python 3",
   "language": "python",
   "name": "python3"
  },
  "language_info": {
   "codemirror_mode": {
    "name": "ipython",
    "version": 3
   },
   "file_extension": ".py",
   "mimetype": "text/x-python",
   "name": "python",
   "nbconvert_exporter": "python",
   "pygments_lexer": "ipython3",
   "version": "3.8.10"
  }
 }
}